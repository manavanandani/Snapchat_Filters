{
 "cells": [
  {
   "attachments": {},
   "cell_type": "markdown",
   "id": "9304a2b7",
   "metadata": {},
   "source": [
    "### **Problem Statement:**\n",
    "Applying snapchat filters on a person in real time video frame using opencv and haarcascade. \n",
    "There are currently 3 filters which the user can apply:\n",
    "1. Dog\n",
    "2. Hat\n",
    "3. Glasses"
   ]
  },
  {
   "cell_type": "code",
   "execution_count": 1,
   "id": "e65ed6f5",
   "metadata": {},
   "outputs": [],
   "source": [
    "#Importing the OpenCV library for image processing\n",
    "import cv2 "
   ]
  },
  {
   "cell_type": "code",
   "execution_count": 2,
   "id": "62dd340f",
   "metadata": {},
   "outputs": [],
   "source": [
    "#Importing the Haarcascade pre-trained model for face-detection \n",
    "dataset=cv2.CascadeClassifier('haarcascade_frontalface_default.xml') "
   ]
  },
  {
   "cell_type": "code",
   "execution_count": 3,
   "id": "d1753174",
   "metadata": {},
   "outputs": [],
   "source": [
    "#Setup video capture via webcam\n",
    "capture=cv2.VideoCapture(0)"
   ]
  },
  {
   "cell_type": "code",
   "execution_count": 4,
   "id": "875371b8",
   "metadata": {},
   "outputs": [],
   "source": [
    "#Importing the images which will be used as filters\n",
    "dog=cv2.imread('dog.png')\n",
    "hat=cv2.imread('hat.png')\n",
    "glass=cv2.imread('glasses.png')"
   ]
  },
  {
   "cell_type": "code",
   "execution_count": 5,
   "id": "929c751c",
   "metadata": {},
   "outputs": [],
   "source": [
    "#Defining a function which will put sunglass on the user's face (Filter-1)\n",
    "def glass_filter(glass,img,x,y,w,h):\n",
    "    face_width=w\n",
    "    face_height=h\n",
    "    glass_width=int(face_width+2)\n",
    "    glass_height=int(face_height*0.5)\n",
    "\n",
    "    glass=cv2.resize(glass,(glass_width,glass_height))\n",
    "    for i in range(glass_height):\n",
    "        for j in range(glass_width):\n",
    "            for k in range(3):\n",
    "                if glass[i][j][k]<155:\n",
    "                    img[y+i- int(-0.20 * face_height)][x+j][k]=glass[i][j][k] #Replace the pixels ner the eye with the image of sunglasses\n",
    "    return img"
   ]
  },
  {
   "cell_type": "code",
   "execution_count": 6,
   "id": "bb3513a2",
   "metadata": {},
   "outputs": [],
   "source": [
    "#Defining a function which will put hat on the user's face (Filter-2)    \n",
    "def hat_filter(hat,img,x,y,w,h):\n",
    "    face_width=w\n",
    "    face_height=h\n",
    "    hat_width=face_width+2\n",
    "    hat_height=face_height*0.50\n",
    "\n",
    "    hat=cv2.resize(hat,(int(hat_width),int(hat_height)))\n",
    "    for i in range(int(hat_height)):\n",
    "        for j in range(int(hat_width)):\n",
    "            for k in range(3):\n",
    "                if hat[i][j][k]<235:\n",
    "                    img[y+i-int(0.50*w)][x+j-1][k]=hat[i][j][k] #Replace the pixels ner the head with the image of hat\n",
    "    return img"
   ]
  },
  {
   "cell_type": "code",
   "execution_count": 7,
   "id": "f8430454",
   "metadata": {},
   "outputs": [],
   "source": [
    "#Defining a function which make user's face appear like a dog (Filter-3)                           \n",
    "def dog_filter(dog,img,x,y,w,h):\n",
    "    face_width=w\n",
    "    face_height=h\n",
    "    dog_w=int(face_width*1.5)\n",
    "    dog_h=int(face_height*1.95)\n",
    "\n",
    "    dog=cv2.resize(dog,(dog_w,dog_h))\n",
    "    for i in range(dog_h):\n",
    "        for j in range(dog_w):\n",
    "            for k in range(3):\n",
    "                if dog[i][j][k]<235:#pixel color compare \n",
    "                    img[y+i-int(0.375*h)-1][x + j - int(0.35 * w)][k]=dog[i][j][k] #Replace the pixels ner the head, nose and mouth with the dog's ears, nose and tongue\n",
    "            \n",
    "    return img"
   ]
  },
  {
   "cell_type": "code",
   "execution_count": 8,
   "id": "b1d72fd0",
   "metadata": {},
   "outputs": [
    {
     "name": "stdout",
     "output_type": "stream",
     "text": [
      "1. Sunglasses\n",
      "2. Hat\n",
      "3. Dog's Face\n",
      "\n",
      "Enter your choice : 2\n"
     ]
    }
   ],
   "source": [
    "#Taking input from the user for the type of filter\n",
    "print(\"1. Sunglasses\\n2. Hat\\n3. Dog's Face\\n\")\n",
    "filter_type=int(input(\"Enter your choice : \"))"
   ]
  },
  {
   "cell_type": "code",
   "execution_count": null,
   "id": "007e579b",
   "metadata": {},
   "outputs": [],
   "source": [
    "while True:\n",
    "    ret,img=capture.read()\n",
    "    global fil\n",
    "    if ret:\n",
    "        gray=cv2.cvtColor(img,cv2.COLOR_BGR2GRAY)\n",
    "        faces=dataset.detectMultiScale(gray,1.3)\n",
    "        for x,y,w,h in faces:\n",
    "            if filter_type==1:\n",
    "                fil=glass_filter(glass,img,x,y,w,h)\n",
    "            elif filter_type==2:\n",
    "                fil=hat_filter(hat,img,x,y,w,h)\n",
    "            elif filter_type==3:\n",
    "                fil=dog_filter(dog,img,x,y,w,h)\n",
    "            else:\n",
    "                print(\"Invalid Choice!!\")\n",
    "            \n",
    "        if cv2.waitKey(1)==27: #Esc will exit the capturing\n",
    "            break\n",
    "    cv2.imshow('result',fil) #Display the real- timee filter on the image\n",
    "\n",
    "# When everything is done, release the capture\n",
    "capture.release()\n",
    "cv2.destroyAllWindows()"
   ]
  },
  {
   "cell_type": "code",
   "execution_count": null,
   "id": "f1ae513b",
   "metadata": {},
   "outputs": [],
   "source": []
  }
 ],
 "metadata": {
  "kernelspec": {
   "display_name": "Python 3 (ipykernel)",
   "language": "python",
   "name": "python3"
  },
  "language_info": {
   "codemirror_mode": {
    "name": "ipython",
    "version": 3
   },
   "file_extension": ".py",
   "mimetype": "text/x-python",
   "name": "python",
   "nbconvert_exporter": "python",
   "pygments_lexer": "ipython3",
   "version": "3.9.7"
  }
 },
 "nbformat": 4,
 "nbformat_minor": 5
}
